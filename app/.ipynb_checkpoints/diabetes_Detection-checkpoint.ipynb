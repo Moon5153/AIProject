{
 "cells": [
  {
   "cell_type": "code",
   "execution_count": null,
   "metadata": {
    "id": "1npkvoQxUvza"
   },
   "outputs": [],
   "source": [
    "import pandas as pd\n",
    "import os\n",
    "import numpy as np\n",
    "import seaborn as sns\n",
    "import matplotlib.pyplot as plt\n",
    "import calendar as cal\n",
    "from sklearn.preprocessing import LabelEncoder\n",
    "from sklearn import preprocessing\n",
    "from sklearn.preprocessing import StandardScaler\n",
    "from sklearn.linear_model import LogisticRegression\n",
    "from sklearn.model_selection import train_test_split"
   ]
  },
  {
   "cell_type": "code",
   "execution_count": null,
   "metadata": {
    "colab": {
     "base_uri": "https://localhost:8080/",
     "height": 206
    },
    "executionInfo": {
     "elapsed": 70,
     "status": "ok",
     "timestamp": 1649260654729,
     "user": {
      "displayName": "Marianne P.",
      "userId": "16604353082886107199"
     },
     "user_tz": 240
    },
    "id": "AVDxO1p_Uzp4",
    "outputId": "62ce82b3-1077-4cb3-8e8d-ea9c581d4f1b"
   },
   "outputs": [],
   "source": [
    "filepath = \"diabetes.csv\"\n",
    "data_pool = pd.read_csv(filepath)\n",
    "\n",
    "data_pool.head(5)"
   ]
  },
  {
   "cell_type": "code",
   "execution_count": null,
   "metadata": {
    "colab": {
     "base_uri": "https://localhost:8080/"
    },
    "executionInfo": {
     "elapsed": 62,
     "status": "ok",
     "timestamp": 1649260654731,
     "user": {
      "displayName": "Marianne P.",
      "userId": "16604353082886107199"
     },
     "user_tz": 240
    },
    "id": "IrWjWB3hb8Eh",
    "outputId": "3cb53ae9-1f02-4625-af90-f230f04707a0"
   },
   "outputs": [],
   "source": [
    "data_pool.columns.values"
   ]
  },
  {
   "cell_type": "code",
   "execution_count": null,
   "metadata": {
    "colab": {
     "base_uri": "https://localhost:8080/"
    },
    "executionInfo": {
     "elapsed": 53,
     "status": "ok",
     "timestamp": 1649260654733,
     "user": {
      "displayName": "Marianne P.",
      "userId": "16604353082886107199"
     },
     "user_tz": 240
    },
    "id": "wsUHL2kScBUU",
    "outputId": "3111dbec-d8b7-4493-9707-34ed738f7f8d"
   },
   "outputs": [],
   "source": [
    "data_pool.shape"
   ]
  },
  {
   "cell_type": "code",
   "execution_count": null,
   "metadata": {
    "colab": {
     "base_uri": "https://localhost:8080/",
     "height": 175
    },
    "executionInfo": {
     "elapsed": 49,
     "status": "ok",
     "timestamp": 1649260654735,
     "user": {
      "displayName": "Marianne P.",
      "userId": "16604353082886107199"
     },
     "user_tz": 240
    },
    "id": "tQjkZZawcEAk",
    "outputId": "3a6aaa45-2a37-4b51-998f-8a5ff43f702e"
   },
   "outputs": [],
   "source": [
    "data_pool.describe()"
   ]
  },
  {
   "cell_type": "code",
   "execution_count": null,
   "metadata": {},
   "outputs": [],
   "source": []
  },
  {
   "cell_type": "code",
   "execution_count": null,
   "metadata": {},
   "outputs": [],
   "source": []
  },
  {
   "cell_type": "code",
   "execution_count": null,
   "metadata": {
    "colab": {
     "base_uri": "https://localhost:8080/"
    },
    "executionInfo": {
     "elapsed": 62,
     "status": "ok",
     "timestamp": 1649260654753,
     "user": {
      "displayName": "Marianne P.",
      "userId": "16604353082886107199"
     },
     "user_tz": 240
    },
    "id": "gi69vphhWDS5",
    "outputId": "e4b0128a-449a-4d05-f45e-52c10c198b33"
   },
   "outputs": [],
   "source": [
    "data_pool.dtypes"
   ]
  },
  {
   "cell_type": "code",
   "execution_count": null,
   "metadata": {
    "colab": {
     "base_uri": "https://localhost:8080/",
     "height": 175
    },
    "executionInfo": {
     "elapsed": 315,
     "status": "ok",
     "timestamp": 1649260655013,
     "user": {
      "displayName": "Marianne P.",
      "userId": "16604353082886107199"
     },
     "user_tz": 240
    },
    "id": "bd5uRVb-e0zr",
    "outputId": "5818b5b3-f0e7-41af-ccbb-d843061d1eea"
   },
   "outputs": [],
   "source": [
    "data_pool.describe()"
   ]
  },
  {
   "cell_type": "code",
   "execution_count": null,
   "metadata": {
    "colab": {
     "base_uri": "https://localhost:8080/"
    },
    "executionInfo": {
     "elapsed": 29,
     "status": "ok",
     "timestamp": 1649260655014,
     "user": {
      "displayName": "Marianne P.",
      "userId": "16604353082886107199"
     },
     "user_tz": 240
    },
    "id": "W34C2Xc8fFxz",
    "outputId": "333e368c-c148-4f7a-9c69-80ac83e6bf50"
   },
   "outputs": [],
   "source": [
    "data_pool.isnull().sum()"
   ]
  },
  {
   "cell_type": "code",
   "execution_count": null,
   "metadata": {},
   "outputs": [],
   "source": [
    "# Convert string data to number, using Label Encoder\n",
    "features = data_pool.columns.values\n",
    "encoders = dict()\n",
    "for cat in features:\n",
    "    encoders[cat] = LabelEncoder()\n",
    "    data_pool[f'{cat}'] = encoders[cat].fit_transform(data_pool[cat])"
   ]
  },
  {
   "cell_type": "code",
   "execution_count": null,
   "metadata": {},
   "outputs": [],
   "source": [
    "data_pool.head(5)"
   ]
  },
  {
   "cell_type": "code",
   "execution_count": null,
   "metadata": {
    "id": "nnacRGyefYmb"
   },
   "outputs": [],
   "source": [
    "# Feature Selection\n",
    "features = [\"Pregnancies\",\"Glucose\",\"BloodPressure\",\"SkinThickness\",\"Insulin\",\"BMI\",\"DiabetesPedigreeFunction\",\"Age\"] \n",
    "target = [\"Outcome\"]\n",
    "X = data_pool[features]\n",
    "y = data_pool[target]\n",
    "y = y.squeeze() # Convert to Series"
   ]
  },
  {
   "cell_type": "code",
   "execution_count": null,
   "metadata": {
    "id": "7mR_5CqOisZI"
   },
   "outputs": [],
   "source": [
    "# Split data into training and testing data\n",
    "# Use standard 10% of data for testing\n",
    "X_train, X_test, y_train, y_test = train_test_split(X, y, test_size=0.1, random_state=99) "
   ]
  },
  {
   "cell_type": "code",
   "execution_count": null,
   "metadata": {},
   "outputs": [],
   "source": [
    "X_train.loc[50]"
   ]
  },
  {
   "cell_type": "code",
   "execution_count": null,
   "metadata": {},
   "outputs": [],
   "source": [
    "type(X_train)"
   ]
  },
  {
   "cell_type": "code",
   "execution_count": null,
   "metadata": {
    "colab": {
     "base_uri": "https://localhost:8080/"
    },
    "executionInfo": {
     "elapsed": 211,
     "status": "ok",
     "timestamp": 1649260890499,
     "user": {
      "displayName": "Marianne P.",
      "userId": "16604353082886107199"
     },
     "user_tz": 240
    },
    "id": "o8aLJK6JeBDf",
    "outputId": "465ba1ed-6802-458d-e064-5092bc495198"
   },
   "outputs": [],
   "source": [
    "# Logistic Regression\n",
    "logistic_model = LogisticRegression(solver='liblinear', random_state=0)\n",
    "logistic_model.fit(X_train,y_train)\n",
    "y_pred_lm = logistic_model.predict(X_test)\n",
    "print(\"Accuracy:\", logistic_model.score(X_test, y_test))"
   ]
  },
  {
   "cell_type": "code",
   "execution_count": null,
   "metadata": {},
   "outputs": [],
   "source": [
    "# SVM\n",
    "from sklearn import svm\n",
    "svm_model = svm.SVC(kernel='linear', C = 1)\n",
    "svm_model.fit(X_train, y_train)\n",
    "y_pred_svm = svm_model.predict(X_test)\n",
    "print(\"Accuracy:\", svm_model.score(X_test, y_test))"
   ]
  },
  {
   "cell_type": "code",
   "execution_count": null,
   "metadata": {
    "id": "_C1SHWrboI91"
   },
   "outputs": [],
   "source": [
    "# imports for confusion matix\n",
    "plt.style.use('ggplot')\n",
    "from sklearn.metrics import confusion_matrix, ConfusionMatrixDisplay"
   ]
  },
  {
   "cell_type": "code",
   "execution_count": null,
   "metadata": {
    "colab": {
     "base_uri": "https://localhost:8080/",
     "height": 282
    },
    "executionInfo": {
     "elapsed": 328,
     "status": "ok",
     "timestamp": 1649261315956,
     "user": {
      "displayName": "Marianne P.",
      "userId": "16604353082886107199"
     },
     "user_tz": 240
    },
    "id": "ikcFPz9ZoSEs",
    "outputId": "98bad545-72a2-4acf-ff0a-84469e0c5f4e"
   },
   "outputs": [],
   "source": [
    "# Confusion matrix for logistic model\n",
    "cm = confusion_matrix(y_test, y_pred_lm, labels=logistic_model.classes_) \n",
    "disp = ConfusionMatrixDisplay(confusion_matrix=cm, display_labels=logistic_model.classes_)\n",
    "disp.plot()\n",
    "plt.show()"
   ]
  },
  {
   "cell_type": "code",
   "execution_count": null,
   "metadata": {},
   "outputs": [],
   "source": [
    "# Confusion matrix for SVM model\n",
    "cm = confusion_matrix(y_test, y_pred_svm, labels=svm_model.classes_) \n",
    "disp = ConfusionMatrixDisplay(confusion_matrix=cm, display_labels=svm_model.classes_)\n",
    "disp.plot()\n",
    "plt.show()"
   ]
  },
  {
   "cell_type": "markdown",
   "metadata": {},
   "source": [
    "We decided to go with the Logistic regression model"
   ]
  },
  {
   "cell_type": "code",
   "execution_count": null,
   "metadata": {
    "id": "HfBFv3c9etAS"
   },
   "outputs": [],
   "source": [
    "import joblib \n",
    "\n",
    "#Serialize save the model as an object\n",
    "# joblib.dump(logistic_model, 'C:data-files/model.pkl')\n",
    "joblib.dump(logistic_model, 'C:data-files/diabetes_model.pkl')\n",
    "print(\"Model dumped!\")\n",
    "\n",
    "#Serialize save the label encoders as an object\n",
    "joblib.dump(encoders, 'data-files/diabetes_le.pkl')\n",
    "print(\"Encoders dumped!\")\n",
    "\n",
    "#Serialize save the model columns as an object\n",
    "features_decode = [\"age\",\"menopause\",\"tumor-size\",\"inv-nodes\",\"node-caps\",\"deg-malig\",\"breast\",\"breast-quad\",\"irradiat\"]\n",
    "joblib.dump(features_decode, 'data-files/diabetes_model_columns.pkl')\n",
    "print(\"Models columns dumped!\")"
   ]
  },
  {
   "cell_type": "code",
   "execution_count": null,
   "metadata": {},
   "outputs": [],
   "source": []
  }
 ],
 "metadata": {
  "colab": {
   "collapsed_sections": [],
   "name": "Group2_Comp377.ipynb",
   "provenance": []
  },
  "kernelspec": {
   "display_name": "Python 3 (ipykernel)",
   "language": "python",
   "name": "python3"
  },
  "language_info": {
   "codemirror_mode": {
    "name": "ipython",
    "version": 3
   },
   "file_extension": ".py",
   "mimetype": "text/x-python",
   "name": "python",
   "nbconvert_exporter": "python",
   "pygments_lexer": "ipython3",
   "version": "3.9.12"
  }
 },
 "nbformat": 4,
 "nbformat_minor": 1
}
