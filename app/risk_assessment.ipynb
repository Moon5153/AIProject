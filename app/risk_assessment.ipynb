{
 "cells": [
  {
   "cell_type": "code",
   "execution_count": 73,
   "metadata": {
    "id": "1npkvoQxUvza"
   },
   "outputs": [],
   "source": [
    "import pandas as pd\n",
    "import os\n",
    "import numpy as np\n",
    "import seaborn as sns\n",
    "import matplotlib.pyplot as plt\n",
    "import calendar as cal\n",
    "from sklearn.preprocessing import LabelEncoder\n",
    "from sklearn import preprocessing\n",
    "from sklearn.preprocessing import StandardScaler\n",
    "from sklearn.linear_model import LogisticRegression\n",
    "from sklearn.model_selection import train_test_split"
   ]
  },
  {
   "cell_type": "code",
   "execution_count": 74,
   "metadata": {
    "colab": {
     "base_uri": "https://localhost:8080/",
     "height": 206
    },
    "executionInfo": {
     "elapsed": 70,
     "status": "ok",
     "timestamp": 1649260654729,
     "user": {
      "displayName": "Marianne P.",
      "userId": "16604353082886107199"
     },
     "user_tz": 240
    },
    "id": "AVDxO1p_Uzp4",
    "outputId": "62ce82b3-1077-4cb3-8e8d-ea9c581d4f1b"
   },
   "outputs": [
    {
     "data": {
      "text/html": [
       "<div>\n",
       "<style scoped>\n",
       "    .dataframe tbody tr th:only-of-type {\n",
       "        vertical-align: middle;\n",
       "    }\n",
       "\n",
       "    .dataframe tbody tr th {\n",
       "        vertical-align: top;\n",
       "    }\n",
       "\n",
       "    .dataframe thead th {\n",
       "        text-align: right;\n",
       "    }\n",
       "</style>\n",
       "<table border=\"1\" class=\"dataframe\">\n",
       "  <thead>\n",
       "    <tr style=\"text-align: right;\">\n",
       "      <th></th>\n",
       "      <th>age</th>\n",
       "      <th>menopause</th>\n",
       "      <th>tumor-size</th>\n",
       "      <th>inv-nodes</th>\n",
       "      <th>node-caps</th>\n",
       "      <th>deg-malig</th>\n",
       "      <th>breast</th>\n",
       "      <th>breast-quad</th>\n",
       "      <th>irradiat</th>\n",
       "      <th>Class</th>\n",
       "    </tr>\n",
       "  </thead>\n",
       "  <tbody>\n",
       "    <tr>\n",
       "      <th>0</th>\n",
       "      <td>'40-49'</td>\n",
       "      <td>'premeno'</td>\n",
       "      <td>'15-19'</td>\n",
       "      <td>'0-2'</td>\n",
       "      <td>'yes'</td>\n",
       "      <td>'3'</td>\n",
       "      <td>'right'</td>\n",
       "      <td>'left_up'</td>\n",
       "      <td>'no'</td>\n",
       "      <td>'recurrence-events'</td>\n",
       "    </tr>\n",
       "    <tr>\n",
       "      <th>1</th>\n",
       "      <td>'50-59'</td>\n",
       "      <td>'ge40'</td>\n",
       "      <td>'15-19'</td>\n",
       "      <td>'0-2'</td>\n",
       "      <td>'no'</td>\n",
       "      <td>'1'</td>\n",
       "      <td>'right'</td>\n",
       "      <td>'central'</td>\n",
       "      <td>'no'</td>\n",
       "      <td>'no-recurrence-events'</td>\n",
       "    </tr>\n",
       "    <tr>\n",
       "      <th>2</th>\n",
       "      <td>'50-59'</td>\n",
       "      <td>'ge40'</td>\n",
       "      <td>'35-39'</td>\n",
       "      <td>'0-2'</td>\n",
       "      <td>'no'</td>\n",
       "      <td>'2'</td>\n",
       "      <td>'left'</td>\n",
       "      <td>'left_low'</td>\n",
       "      <td>'no'</td>\n",
       "      <td>'recurrence-events'</td>\n",
       "    </tr>\n",
       "    <tr>\n",
       "      <th>3</th>\n",
       "      <td>'40-49'</td>\n",
       "      <td>'premeno'</td>\n",
       "      <td>'35-39'</td>\n",
       "      <td>'0-2'</td>\n",
       "      <td>'yes'</td>\n",
       "      <td>'3'</td>\n",
       "      <td>'right'</td>\n",
       "      <td>'left_low'</td>\n",
       "      <td>'yes'</td>\n",
       "      <td>'no-recurrence-events'</td>\n",
       "    </tr>\n",
       "    <tr>\n",
       "      <th>4</th>\n",
       "      <td>'40-49'</td>\n",
       "      <td>'premeno'</td>\n",
       "      <td>'30-34'</td>\n",
       "      <td>'3-5'</td>\n",
       "      <td>'yes'</td>\n",
       "      <td>'2'</td>\n",
       "      <td>'left'</td>\n",
       "      <td>'right_up'</td>\n",
       "      <td>'no'</td>\n",
       "      <td>'recurrence-events'</td>\n",
       "    </tr>\n",
       "    <tr>\n",
       "      <th>...</th>\n",
       "      <td>...</td>\n",
       "      <td>...</td>\n",
       "      <td>...</td>\n",
       "      <td>...</td>\n",
       "      <td>...</td>\n",
       "      <td>...</td>\n",
       "      <td>...</td>\n",
       "      <td>...</td>\n",
       "      <td>...</td>\n",
       "      <td>...</td>\n",
       "    </tr>\n",
       "    <tr>\n",
       "      <th>281</th>\n",
       "      <td>'50-59'</td>\n",
       "      <td>'ge40'</td>\n",
       "      <td>'30-34'</td>\n",
       "      <td>'6-8'</td>\n",
       "      <td>'yes'</td>\n",
       "      <td>'2'</td>\n",
       "      <td>'left'</td>\n",
       "      <td>'left_low'</td>\n",
       "      <td>'no'</td>\n",
       "      <td>'no-recurrence-events'</td>\n",
       "    </tr>\n",
       "    <tr>\n",
       "      <th>282</th>\n",
       "      <td>'50-59'</td>\n",
       "      <td>'premeno'</td>\n",
       "      <td>'25-29'</td>\n",
       "      <td>'3-5'</td>\n",
       "      <td>'yes'</td>\n",
       "      <td>'2'</td>\n",
       "      <td>'left'</td>\n",
       "      <td>'left_low'</td>\n",
       "      <td>'yes'</td>\n",
       "      <td>'no-recurrence-events'</td>\n",
       "    </tr>\n",
       "    <tr>\n",
       "      <th>283</th>\n",
       "      <td>'30-39'</td>\n",
       "      <td>'premeno'</td>\n",
       "      <td>'30-34'</td>\n",
       "      <td>'6-8'</td>\n",
       "      <td>'yes'</td>\n",
       "      <td>'2'</td>\n",
       "      <td>'right'</td>\n",
       "      <td>'right_up'</td>\n",
       "      <td>'no'</td>\n",
       "      <td>'no-recurrence-events'</td>\n",
       "    </tr>\n",
       "    <tr>\n",
       "      <th>284</th>\n",
       "      <td>'50-59'</td>\n",
       "      <td>'premeno'</td>\n",
       "      <td>'15-19'</td>\n",
       "      <td>'0-2'</td>\n",
       "      <td>'no'</td>\n",
       "      <td>'2'</td>\n",
       "      <td>'right'</td>\n",
       "      <td>'left_low'</td>\n",
       "      <td>'no'</td>\n",
       "      <td>'no-recurrence-events'</td>\n",
       "    </tr>\n",
       "    <tr>\n",
       "      <th>285</th>\n",
       "      <td>'50-59'</td>\n",
       "      <td>'ge40'</td>\n",
       "      <td>'40-44'</td>\n",
       "      <td>'0-2'</td>\n",
       "      <td>'no'</td>\n",
       "      <td>'3'</td>\n",
       "      <td>'left'</td>\n",
       "      <td>'right_up'</td>\n",
       "      <td>'no'</td>\n",
       "      <td>'no-recurrence-events'</td>\n",
       "    </tr>\n",
       "  </tbody>\n",
       "</table>\n",
       "<p>286 rows × 10 columns</p>\n",
       "</div>"
      ],
      "text/plain": [
       "         age  menopause tumor-size inv-nodes node-caps deg-malig   breast  \\\n",
       "0    '40-49'  'premeno'    '15-19'     '0-2'     'yes'       '3'  'right'   \n",
       "1    '50-59'     'ge40'    '15-19'     '0-2'      'no'       '1'  'right'   \n",
       "2    '50-59'     'ge40'    '35-39'     '0-2'      'no'       '2'   'left'   \n",
       "3    '40-49'  'premeno'    '35-39'     '0-2'     'yes'       '3'  'right'   \n",
       "4    '40-49'  'premeno'    '30-34'     '3-5'     'yes'       '2'   'left'   \n",
       "..       ...        ...        ...       ...       ...       ...      ...   \n",
       "281  '50-59'     'ge40'    '30-34'     '6-8'     'yes'       '2'   'left'   \n",
       "282  '50-59'  'premeno'    '25-29'     '3-5'     'yes'       '2'   'left'   \n",
       "283  '30-39'  'premeno'    '30-34'     '6-8'     'yes'       '2'  'right'   \n",
       "284  '50-59'  'premeno'    '15-19'     '0-2'      'no'       '2'  'right'   \n",
       "285  '50-59'     'ge40'    '40-44'     '0-2'      'no'       '3'   'left'   \n",
       "\n",
       "    breast-quad irradiat                   Class  \n",
       "0     'left_up'     'no'     'recurrence-events'  \n",
       "1     'central'     'no'  'no-recurrence-events'  \n",
       "2    'left_low'     'no'     'recurrence-events'  \n",
       "3    'left_low'    'yes'  'no-recurrence-events'  \n",
       "4    'right_up'     'no'     'recurrence-events'  \n",
       "..          ...      ...                     ...  \n",
       "281  'left_low'     'no'  'no-recurrence-events'  \n",
       "282  'left_low'    'yes'  'no-recurrence-events'  \n",
       "283  'right_up'     'no'  'no-recurrence-events'  \n",
       "284  'left_low'     'no'  'no-recurrence-events'  \n",
       "285  'right_up'     'no'  'no-recurrence-events'  \n",
       "\n",
       "[286 rows x 10 columns]"
      ]
     },
     "execution_count": 74,
     "metadata": {},
     "output_type": "execute_result"
    }
   ],
   "source": [
    "data = pd.read_csv(\"breast-cancer.csv\")\n",
    "data"
   ]
  },
  {
   "cell_type": "code",
   "execution_count": 75,
   "metadata": {
    "colab": {
     "base_uri": "https://localhost:8080/"
    },
    "executionInfo": {
     "elapsed": 62,
     "status": "ok",
     "timestamp": 1649260654731,
     "user": {
      "displayName": "Marianne P.",
      "userId": "16604353082886107199"
     },
     "user_tz": 240
    },
    "id": "IrWjWB3hb8Eh",
    "outputId": "3cb53ae9-1f02-4625-af90-f230f04707a0"
   },
   "outputs": [
    {
     "data": {
      "text/plain": [
       "array(['age', 'menopause', 'tumor-size', 'inv-nodes', 'node-caps',\n",
       "       'deg-malig', 'breast', 'breast-quad', 'irradiat', 'Class'],\n",
       "      dtype=object)"
      ]
     },
     "execution_count": 75,
     "metadata": {},
     "output_type": "execute_result"
    }
   ],
   "source": [
    "data.columns.values"
   ]
  },
  {
   "cell_type": "code",
   "execution_count": 76,
   "metadata": {},
   "outputs": [
    {
     "data": {
      "text/plain": [
       "'no'     222\n",
       "'yes'     56\n",
       "?          8\n",
       "Name: node-caps, dtype: int64"
      ]
     },
     "execution_count": 76,
     "metadata": {},
     "output_type": "execute_result"
    }
   ],
   "source": [
    "data[\"node-caps\"].value_counts()"
   ]
  },
  {
   "cell_type": "code",
   "execution_count": 77,
   "metadata": {},
   "outputs": [
    {
     "data": {
      "text/plain": [
       "'no'     230\n",
       "'yes'     56\n",
       "Name: node-caps, dtype: int64"
      ]
     },
     "execution_count": 77,
     "metadata": {},
     "output_type": "execute_result"
    }
   ],
   "source": [
    "#handel nan value\n",
    "data[\"node-caps\"].replace({'?':\"'no'\"},inplace = True)\n",
    "data[\"node-caps\"].value_counts()"
   ]
  },
  {
   "cell_type": "code",
   "execution_count": 78,
   "metadata": {
    "colab": {
     "base_uri": "https://localhost:8080/",
     "height": 175
    },
    "executionInfo": {
     "elapsed": 315,
     "status": "ok",
     "timestamp": 1649260655013,
     "user": {
      "displayName": "Marianne P.",
      "userId": "16604353082886107199"
     },
     "user_tz": 240
    },
    "id": "bd5uRVb-e0zr",
    "outputId": "5818b5b3-f0e7-41af-ccbb-d843061d1eea"
   },
   "outputs": [
    {
     "data": {
      "text/html": [
       "<div>\n",
       "<style scoped>\n",
       "    .dataframe tbody tr th:only-of-type {\n",
       "        vertical-align: middle;\n",
       "    }\n",
       "\n",
       "    .dataframe tbody tr th {\n",
       "        vertical-align: top;\n",
       "    }\n",
       "\n",
       "    .dataframe thead th {\n",
       "        text-align: right;\n",
       "    }\n",
       "</style>\n",
       "<table border=\"1\" class=\"dataframe\">\n",
       "  <thead>\n",
       "    <tr style=\"text-align: right;\">\n",
       "      <th></th>\n",
       "      <th>age</th>\n",
       "      <th>menopause</th>\n",
       "      <th>tumor-size</th>\n",
       "      <th>inv-nodes</th>\n",
       "      <th>node-caps</th>\n",
       "      <th>deg-malig</th>\n",
       "      <th>breast</th>\n",
       "      <th>breast-quad</th>\n",
       "      <th>irradiat</th>\n",
       "      <th>Class</th>\n",
       "    </tr>\n",
       "  </thead>\n",
       "  <tbody>\n",
       "    <tr>\n",
       "      <th>count</th>\n",
       "      <td>286</td>\n",
       "      <td>286</td>\n",
       "      <td>286</td>\n",
       "      <td>286</td>\n",
       "      <td>286</td>\n",
       "      <td>286</td>\n",
       "      <td>286</td>\n",
       "      <td>286</td>\n",
       "      <td>286</td>\n",
       "      <td>286</td>\n",
       "    </tr>\n",
       "    <tr>\n",
       "      <th>unique</th>\n",
       "      <td>6</td>\n",
       "      <td>3</td>\n",
       "      <td>11</td>\n",
       "      <td>7</td>\n",
       "      <td>2</td>\n",
       "      <td>3</td>\n",
       "      <td>2</td>\n",
       "      <td>6</td>\n",
       "      <td>2</td>\n",
       "      <td>2</td>\n",
       "    </tr>\n",
       "    <tr>\n",
       "      <th>top</th>\n",
       "      <td>'50-59'</td>\n",
       "      <td>'premeno'</td>\n",
       "      <td>'30-34'</td>\n",
       "      <td>'0-2'</td>\n",
       "      <td>'no'</td>\n",
       "      <td>'2'</td>\n",
       "      <td>'left'</td>\n",
       "      <td>'left_low'</td>\n",
       "      <td>'no'</td>\n",
       "      <td>'no-recurrence-events'</td>\n",
       "    </tr>\n",
       "    <tr>\n",
       "      <th>freq</th>\n",
       "      <td>96</td>\n",
       "      <td>150</td>\n",
       "      <td>60</td>\n",
       "      <td>213</td>\n",
       "      <td>230</td>\n",
       "      <td>130</td>\n",
       "      <td>152</td>\n",
       "      <td>110</td>\n",
       "      <td>218</td>\n",
       "      <td>201</td>\n",
       "    </tr>\n",
       "  </tbody>\n",
       "</table>\n",
       "</div>"
      ],
      "text/plain": [
       "            age  menopause tumor-size inv-nodes node-caps deg-malig  breast  \\\n",
       "count       286        286        286       286       286       286     286   \n",
       "unique        6          3         11         7         2         3       2   \n",
       "top     '50-59'  'premeno'    '30-34'     '0-2'      'no'       '2'  'left'   \n",
       "freq         96        150         60       213       230       130     152   \n",
       "\n",
       "       breast-quad irradiat                   Class  \n",
       "count          286      286                     286  \n",
       "unique           6        2                       2  \n",
       "top     'left_low'     'no'  'no-recurrence-events'  \n",
       "freq           110      218                     201  "
      ]
     },
     "execution_count": 78,
     "metadata": {},
     "output_type": "execute_result"
    }
   ],
   "source": [
    "data.describe()"
   ]
  },
  {
   "cell_type": "code",
   "execution_count": 79,
   "metadata": {
    "colab": {
     "base_uri": "https://localhost:8080/"
    },
    "executionInfo": {
     "elapsed": 29,
     "status": "ok",
     "timestamp": 1649260655014,
     "user": {
      "displayName": "Marianne P.",
      "userId": "16604353082886107199"
     },
     "user_tz": 240
    },
    "id": "W34C2Xc8fFxz",
    "outputId": "333e368c-c148-4f7a-9c69-80ac83e6bf50"
   },
   "outputs": [
    {
     "data": {
      "text/plain": [
       "age            0\n",
       "menopause      0\n",
       "tumor-size     0\n",
       "inv-nodes      0\n",
       "node-caps      0\n",
       "deg-malig      0\n",
       "breast         0\n",
       "breast-quad    0\n",
       "irradiat       0\n",
       "Class          0\n",
       "dtype: int64"
      ]
     },
     "execution_count": 79,
     "metadata": {},
     "output_type": "execute_result"
    }
   ],
   "source": [
    "data.isnull().sum()"
   ]
  },
  {
   "cell_type": "code",
   "execution_count": 80,
   "metadata": {},
   "outputs": [],
   "source": [
    "# Convert string data to number, using Label Encoder\n",
    "features = data.columns.values\n",
    "encoders = dict()\n",
    "for cat in features:\n",
    "    encoders[cat] = LabelEncoder()\n",
    "    data[f'{cat}'] = encoders[cat].fit_transform(data[cat])"
   ]
  },
  {
   "cell_type": "code",
   "execution_count": 81,
   "metadata": {},
   "outputs": [
    {
     "data": {
      "text/html": [
       "<div>\n",
       "<style scoped>\n",
       "    .dataframe tbody tr th:only-of-type {\n",
       "        vertical-align: middle;\n",
       "    }\n",
       "\n",
       "    .dataframe tbody tr th {\n",
       "        vertical-align: top;\n",
       "    }\n",
       "\n",
       "    .dataframe thead th {\n",
       "        text-align: right;\n",
       "    }\n",
       "</style>\n",
       "<table border=\"1\" class=\"dataframe\">\n",
       "  <thead>\n",
       "    <tr style=\"text-align: right;\">\n",
       "      <th></th>\n",
       "      <th>age</th>\n",
       "      <th>menopause</th>\n",
       "      <th>tumor-size</th>\n",
       "      <th>inv-nodes</th>\n",
       "      <th>node-caps</th>\n",
       "      <th>deg-malig</th>\n",
       "      <th>breast</th>\n",
       "      <th>breast-quad</th>\n",
       "      <th>irradiat</th>\n",
       "      <th>Class</th>\n",
       "    </tr>\n",
       "  </thead>\n",
       "  <tbody>\n",
       "    <tr>\n",
       "      <th>0</th>\n",
       "      <td>2</td>\n",
       "      <td>2</td>\n",
       "      <td>2</td>\n",
       "      <td>0</td>\n",
       "      <td>1</td>\n",
       "      <td>2</td>\n",
       "      <td>1</td>\n",
       "      <td>2</td>\n",
       "      <td>0</td>\n",
       "      <td>1</td>\n",
       "    </tr>\n",
       "    <tr>\n",
       "      <th>1</th>\n",
       "      <td>3</td>\n",
       "      <td>0</td>\n",
       "      <td>2</td>\n",
       "      <td>0</td>\n",
       "      <td>0</td>\n",
       "      <td>0</td>\n",
       "      <td>1</td>\n",
       "      <td>0</td>\n",
       "      <td>0</td>\n",
       "      <td>0</td>\n",
       "    </tr>\n",
       "    <tr>\n",
       "      <th>2</th>\n",
       "      <td>3</td>\n",
       "      <td>0</td>\n",
       "      <td>6</td>\n",
       "      <td>0</td>\n",
       "      <td>0</td>\n",
       "      <td>1</td>\n",
       "      <td>0</td>\n",
       "      <td>1</td>\n",
       "      <td>0</td>\n",
       "      <td>1</td>\n",
       "    </tr>\n",
       "    <tr>\n",
       "      <th>3</th>\n",
       "      <td>2</td>\n",
       "      <td>2</td>\n",
       "      <td>6</td>\n",
       "      <td>0</td>\n",
       "      <td>1</td>\n",
       "      <td>2</td>\n",
       "      <td>1</td>\n",
       "      <td>1</td>\n",
       "      <td>1</td>\n",
       "      <td>0</td>\n",
       "    </tr>\n",
       "    <tr>\n",
       "      <th>4</th>\n",
       "      <td>2</td>\n",
       "      <td>2</td>\n",
       "      <td>5</td>\n",
       "      <td>4</td>\n",
       "      <td>1</td>\n",
       "      <td>1</td>\n",
       "      <td>0</td>\n",
       "      <td>4</td>\n",
       "      <td>0</td>\n",
       "      <td>1</td>\n",
       "    </tr>\n",
       "  </tbody>\n",
       "</table>\n",
       "</div>"
      ],
      "text/plain": [
       "   age  menopause  tumor-size  inv-nodes  node-caps  deg-malig  breast  \\\n",
       "0    2          2           2          0          1          2       1   \n",
       "1    3          0           2          0          0          0       1   \n",
       "2    3          0           6          0          0          1       0   \n",
       "3    2          2           6          0          1          2       1   \n",
       "4    2          2           5          4          1          1       0   \n",
       "\n",
       "   breast-quad  irradiat  Class  \n",
       "0            2         0      1  \n",
       "1            0         0      0  \n",
       "2            1         0      1  \n",
       "3            1         1      0  \n",
       "4            4         0      1  "
      ]
     },
     "execution_count": 81,
     "metadata": {},
     "output_type": "execute_result"
    }
   ],
   "source": [
    "data.head(5)"
   ]
  },
  {
   "cell_type": "code",
   "execution_count": 82,
   "metadata": {
    "id": "nnacRGyefYmb"
   },
   "outputs": [],
   "source": [
    "# Feature Selection\n",
    "features = [\"age\",\"menopause\",\"tumor-size\",\"inv-nodes\",\"node-caps\",\"deg-malig\",\"breast\",\"breast-quad\",\"irradiat\"] \n",
    "target = [\"Class\"]\n",
    "X = data[features]\n",
    "y = data[target]\n",
    "y = y.squeeze() # Convert to Series"
   ]
  },
  {
   "cell_type": "code",
   "execution_count": 83,
   "metadata": {
    "id": "7mR_5CqOisZI"
   },
   "outputs": [],
   "source": [
    "# Split data into training and testing data\n",
    "# Use standard 10% of data for testing\n",
    "X_train, X_test, y_train, y_test = train_test_split(X, y, test_size=0.1, random_state=99) "
   ]
  },
  {
   "cell_type": "code",
   "execution_count": 84,
   "metadata": {},
   "outputs": [
    {
     "data": {
      "text/plain": [
       "age            4\n",
       "menopause      0\n",
       "tumor-size     5\n",
       "inv-nodes      4\n",
       "node-caps      1\n",
       "deg-malig      1\n",
       "breast         0\n",
       "breast-quad    0\n",
       "irradiat       1\n",
       "Name: 105, dtype: int32"
      ]
     },
     "execution_count": 84,
     "metadata": {},
     "output_type": "execute_result"
    }
   ],
   "source": [
    "X_train.loc[105]"
   ]
  },
  {
   "cell_type": "code",
   "execution_count": 85,
   "metadata": {
    "colab": {
     "base_uri": "https://localhost:8080/"
    },
    "executionInfo": {
     "elapsed": 211,
     "status": "ok",
     "timestamp": 1649260890499,
     "user": {
      "displayName": "Marianne P.",
      "userId": "16604353082886107199"
     },
     "user_tz": 240
    },
    "id": "o8aLJK6JeBDf",
    "outputId": "465ba1ed-6802-458d-e064-5092bc495198"
   },
   "outputs": [
    {
     "name": "stdout",
     "output_type": "stream",
     "text": [
      "Accuracy: 0.8620689655172413\n"
     ]
    }
   ],
   "source": [
    "# Logistic Regression\n",
    "logistic_model = LogisticRegression(solver='liblinear', random_state=0)\n",
    "logistic_model.fit(X_train,y_train)\n",
    "y_pred_lm = logistic_model.predict(X_test)\n",
    "print(\"Accuracy:\", logistic_model.score(X_test, y_test))"
   ]
  },
  {
   "cell_type": "code",
   "execution_count": 86,
   "metadata": {},
   "outputs": [
    {
     "name": "stdout",
     "output_type": "stream",
     "text": [
      "Accuracy: 0.7586206896551724\n"
     ]
    }
   ],
   "source": [
    "# SVM  Model\n",
    "from sklearn import svm\n",
    "svm_model = svm.SVC(kernel='linear', C = 1)\n",
    "svm_model.fit(X_train, y_train)\n",
    "y_pred_svm = svm_model.predict(X_test)\n",
    "print(\"Accuracy:\", svm_model.score(X_test, y_test))"
   ]
  },
  {
   "cell_type": "code",
   "execution_count": 87,
   "metadata": {
    "id": "_C1SHWrboI91"
   },
   "outputs": [],
   "source": [
    "# imports for confusion matix\n",
    "plt.style.use('ggplot')\n",
    "from sklearn.metrics import confusion_matrix, ConfusionMatrixDisplay"
   ]
  },
  {
   "cell_type": "code",
   "execution_count": 88,
   "metadata": {
    "colab": {
     "base_uri": "https://localhost:8080/",
     "height": 282
    },
    "executionInfo": {
     "elapsed": 328,
     "status": "ok",
     "timestamp": 1649261315956,
     "user": {
      "displayName": "Marianne P.",
      "userId": "16604353082886107199"
     },
     "user_tz": 240
    },
    "id": "ikcFPz9ZoSEs",
    "outputId": "98bad545-72a2-4acf-ff0a-84469e0c5f4e"
   },
   "outputs": [
    {
     "data": {
      "image/png": "[encoded data removed]",
      "text/plain": [
       "<Figure size 432x288 with 2 Axes>"
      ]
     },
     "metadata": {},
     "output_type": "display_data"
    }
   ],
   "source": [
    "# Confusion matrix for logistic model\n",
    "cm = confusion_matrix(y_test, y_pred_lm, labels=logistic_model.classes_) \n",
    "disp = ConfusionMatrixDisplay(confusion_matrix=cm, display_labels=logistic_model.classes_)\n",
    "disp.plot()\n",
    "plt.show()"
   ]
  },
  {
   "cell_type": "code",
   "execution_count": 89,
   "metadata": {},
   "outputs": [
    {
     "data": {
      "image/png": "[encoded data removed]",
      "text/plain": [
       "<Figure size 432x288 with 2 Axes>"
      ]
     },
     "metadata": {},
     "output_type": "display_data"
    }
   ],
   "source": [
    "# Confusion matrix for SVM model\n",
    "cm = confusion_matrix(y_test, y_pred_svm, labels=svm_model.classes_) \n",
    "disp = ConfusionMatrixDisplay(confusion_matrix=cm, display_labels=svm_model.classes_)\n",
    "disp.plot()\n",
    "plt.show()"
   ]
  },
  {
   "cell_type": "code",
   "execution_count": 90,
   "metadata": {
    "id": "HfBFv3c9etAS"
   },
   "outputs": [
    {
     "name": "stdout",
     "output_type": "stream",
     "text": [
      "Model dumped!\n",
      "Encoders dumped!\n",
      "Models columns dumped!\n"
     ]
    }
   ],
   "source": [
    "import joblib \n",
    "\n",
    "#Serialize save the model as an object\n",
    "joblib.dump(logistic_model, 'C:data-files/model.pkl')\n",
    "print(\"Model dumped!\")\n",
    "\n",
    "#Serialize save the label encoders as an object\n",
    "joblib.dump(encoders, 'data-files/le.pkl')\n",
    "print(\"Encoders dumped!\")\n",
    "\n",
    "#Serialize save the model columns as an object\n",
    "features_decode = [\"age\",\"menopause\",\"tumor-size\",\"inv-nodes\",\"node-caps\",\"deg-malig\",\"breast\",\"breast-quad\",\"irradiat\"]\n",
    "joblib.dump(features_decode, 'data-files/model_columns.pkl')\n",
    "print(\"Models columns dumped!\")"
   ]
  },
  {
   "cell_type": "code",
   "execution_count": null,
   "metadata": {},
   "outputs": [],
   "source": []
  }
 ],
 "metadata": {
  "colab": {
   "collapsed_sections": [],
   "name": "Group2_Comp377.ipynb",
   "provenance": []
  },
  "kernelspec": {
   "display_name": "Python 3 (ipykernel)",
   "language": "python",
   "name": "python3"
  },
  "language_info": {
   "codemirror_mode": {
    "name": "ipython",
    "version": 3
   },
   "file_extension": ".py",
   "mimetype": "text/x-python",
   "name": "python",
   "nbconvert_exporter": "python",
   "pygments_lexer": "ipython3",
   "version": "3.9.12"
  }
 },
 "nbformat": 4,
 "nbformat_minor": 1
}
